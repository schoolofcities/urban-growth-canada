{
 "cells": [
  {
   "cell_type": "code",
   "execution_count": 16,
   "metadata": {},
   "outputs": [],
   "source": [
    "import geopandas, pandas, numpy\n",
    "from string import ascii_lowercase as alc"
   ]
  },
  {
   "cell_type": "code",
   "execution_count": 17,
   "metadata": {},
   "outputs": [
    {
     "data": {
      "text/plain": [
       "'\\nprint(\"canada_da_21\")\\ncanada_da_21 = geopandas.read_file(\"../census-file-handling/Data/lda_000b21a_e/lda_000b21a_e.shp\")\\n#print(\"canada_da_06\")\\ncanada_da_06 = geopandas.read_file(\"../census-file-handling/Data/gda_000b06a_e/gda_000b06a_e.shp\")\\nprint(\"canada_csd_21\")\\ncanada_csd_21 = geopandas.read_file(\"../census-file-handling/Data/lcsd000b21a_e/lcsd000b21a_e.shp\")\\n\\nontario_da_21 = canada_da_21[canada_da_21[\\'PRUID\\'] == \\'35\\']\\nontario_da_06 = canada_da_06[canada_da_06[\\'PRUID\\'] == \\'35\\']\\nontario_csd_21 = canada_csd_21[canada_csd_21[\\'PRUID\\'] == \\'35\\']\\n\\n\\nontario_da_21.to_csv(\"../census-file-handling/Data/Census Data/ontario_da_21.csv\")\\nontario_da_06.to_csv(\"../census-file-handling/Data/Census Data/ontario_da_06.csv\")\\nontario_csd_21.to_csv(\"../census-file-handling/Data/Census Data/ontario_csd_21.csv\")'"
      ]
     },
     "execution_count": 17,
     "metadata": {},
     "output_type": "execute_result"
    }
   ],
   "source": [
    "\"\"\"\n",
    "#run this code snippet when you are running this code for the first time, this takes in the DA files from 2006 and 2021\n",
    "#It selects only Ontario DAs and export it as csv, which makes re-running the code in the future MUCH faster\n",
    "\n",
    "\n",
    "print(\"canada_da_21\")\n",
    "canada_da_21 = geopandas.read_file(\"../census-file-handling/Data/lda_000b21a_e/lda_000b21a_e.shp\")\n",
    "#print(\"canada_da_06\")\n",
    "canada_da_06 = geopandas.read_file(\"../census-file-handling/Data/gda_000b06a_e/gda_000b06a_e.shp\")\n",
    "print(\"canada_csd_21\")\n",
    "canada_csd_21 = geopandas.read_file(\"../census-file-handling/Data/lcsd000b21a_e/lcsd000b21a_e.shp\")\n",
    "\n",
    "ontario_da_21 = canada_da_21[canada_da_21['PRUID'] == '35']\n",
    "ontario_da_06 = canada_da_06[canada_da_06['PRUID'] == '35']\n",
    "ontario_csd_21 = canada_csd_21[canada_csd_21['PRUID'] == '35']\n",
    "\n",
    "\n",
    "ontario_da_21.to_csv(\"../census-file-handling/Data/Census Data/ontario_da_21.csv\")\n",
    "ontario_da_06.to_csv(\"../census-file-handling/Data/Census Data/ontario_da_06.csv\")\n",
    "ontario_csd_21.to_csv(\"../census-file-handling/Data/Census Data/ontario_csd_21.csv\")\"\"\""
   ]
  },
  {
   "cell_type": "code",
   "execution_count": 18,
   "metadata": {},
   "outputs": [],
   "source": [
    "ontario_da_21 = pandas.read_csv(\"../census-file-handling/Data/Census Data/ontario_da_21.csv\")\n",
    "ontario_da_06 = pandas.read_csv(\"../census-file-handling/Data/Census Data/ontario_da_06.csv\")\n",
    "ontario_csd_21 = pandas.read_csv(\"../census-file-handling/Data/Census Data/ontario_csd_21.csv\")\n",
    "\n",
    "ontario_da_21 = ontario_da_21.drop(['Unnamed: 0', 'geometry'], axis = 1)\n",
    "ontario_da_06 = ontario_da_06.drop(['Unnamed: 0', 'geometry'], axis = 1)\n",
    "ontario_csd_21 = ontario_csd_21.drop(['Unnamed: 0', 'geometry'], axis = 1)\n",
    "\n",
    "ontario_da_21['DAUID'] = ontario_da_21['DAUID'].astype('str')\n",
    "ontario_da_06['CSDUID'] = ontario_da_06['CSDUID'].astype('str')\n",
    "ontario_csd_21['CSDUID'] = ontario_csd_21['CSDUID'].astype('str')"
   ]
  },
  {
   "cell_type": "markdown",
   "metadata": {},
   "source": [
    "Bridging the Gap Between CSDUID and DAUID\n"
   ]
  },
  {
   "cell_type": "code",
   "execution_count": 20,
   "metadata": {},
   "outputs": [],
   "source": [
    "\n",
    "#import census reference table, which contains the DGUID for DA and CSD level. \n",
    "region_summary = pandas.read_csv(\"../regions-summary.csv\")\n",
    "DA_to_CSD = pandas.read_csv(\"../census-file-handling/Data/2021_DA_CSDUID_Reference_Table.csv\")\n",
    "\n",
    "#merge the reference table to the Ontario DA file for 2021\n",
    "DA_with_CSDDGUID = pandas.merge(ontario_da_21, DA_to_CSD, left_on = \"DGUID\", right_on = \"DADGUID_ADIDUGD\", sort=False)\n",
    "#copy the 'DGUID', 'CSDUID' to a new dataframe called DA_with_CSD, then merge it to DA_with_CSDDGUID\n",
    "DA_with_CSD = ontario_csd_21[['DGUID', 'CSDUID']].copy()\n",
    "GGH_DA_with_CSDUID_21 = pandas.merge(DA_with_CSDDGUID, DA_with_CSD,  left_on= \"CSDDGUID_SDRIDUGD\", right_on= \"DGUID\", sort=False)\n",
    "#remove redundant fields \n",
    "GGH_DA_with_CSDUID_21 = GGH_DA_with_CSDUID_21.drop([\"CSDDGUID_SDRIDUGD\", \"LANDAREA\", \"DADGUID_ADIDUGD\", \"DGUID_y\",\"PRUID\", \"DGUID_x\"], axis = 1)\n",
    "GGH_DA_with_CSDUID_06 = ontario_da_06.drop([\"CDUID\", \"ERUID\", \"CCSUID\", \"CTUID\", \"CMAUID\", \"PRUID\"], axis = 1)\n",
    "\n",
    "#turn the region summary into a list\n",
    "censusIDList = region_summary['CDUID2'].tolist()\n",
    "municipalityList = region_summary['Municipality'].tolist()\n",
    "macroList = region_summary[\"Macro\"].tolist()\n",
    "#loop through the list to add a new field called CSDID2, CSDID2 will be a new key for joining with regions-summary.csv\n",
    "i = 0\n",
    "while i < len(censusIDList):\n",
    "    regionID = censusIDList[i]\n",
    "    macro = macroList[i]\n",
    "    municipality = municipalityList[i]\n",
    "    GGH_DA_with_CSDUID_21.loc[GGH_DA_with_CSDUID_21['CSDUID'].str.startswith(f'{regionID}'), \"Macro\"] = macro\n",
    "    GGH_DA_with_CSDUID_06.loc[GGH_DA_with_CSDUID_06['CSDUID'].str.startswith(f'{regionID}'), \"Macro\"] = macro\n",
    "    GGH_DA_with_CSDUID_21.loc[GGH_DA_with_CSDUID_21['CSDUID'].str.startswith(f'{regionID}'), \"Municipality\"] = municipality\n",
    "    GGH_DA_with_CSDUID_06.loc[GGH_DA_with_CSDUID_06['CSDUID'].str.startswith(f'{regionID}'), \"Municipality\"] = municipality\n",
    "    i+=1\n",
    "\n",
    "GGH_DA_with_CSDUID_21 = GGH_DA_with_CSDUID_21.dropna()\n",
    "GGH_DA_with_CSDUID_06 = GGH_DA_with_CSDUID_06.dropna()\n",
    "GGH_DA_with_CSDUID_21.to_csv(\"../census-file-handling/Data/GGH_DA_with_CSDUID_21.csv\")\n",
    "GGH_DA_with_CSDUID_06.to_csv(\"../census-file-handling/Data/GGH_DA_with_CSDUID_06.csv\")\n",
    "\n"
   ]
  },
  {
   "cell_type": "markdown",
   "metadata": {},
   "source": [
    "Joining Census Data With the Census ID Converstion Table"
   ]
  },
  {
   "cell_type": "code",
   "execution_count": 21,
   "metadata": {},
   "outputs": [],
   "source": [
    "import geopandas, pandas, numpy\n",
    "from string import ascii_lowercase as alc\n",
    "\n",
    "census_ontario_data_06 = pandas.read_csv(\"../census-file-handling/Data/Census Data/Census2006.csv\", encoding='utf-8')\n",
    "census_ontario_data_21 = pandas.read_csv(\"../census-file-handling/Data/Census Data/Census2021.csv\", encoding='utf-8')\n"
   ]
  },
  {
   "cell_type": "code",
   "execution_count": 22,
   "metadata": {},
   "outputs": [],
   "source": [
    "#merge the DA with CSD UID with census data\n",
    "GGH_DA_with_CSDUID_06[\"DAUID\"] = GGH_DA_with_CSDUID_06[\"DAUID\"].astype('str')\n",
    "census_ontario_data_06[\"Dauid\"] = census_ontario_data_06[\"Dauid\"].astype('str')\n",
    "GGH_Census_06 = pandas.merge(GGH_DA_with_CSDUID_06, census_ontario_data_06,  left_on= \"DAUID\", right_on= \"Dauid\", sort=False)\n",
    "\n",
    "GGH_DA_with_CSDUID_21[\"DAUID\"] = GGH_DA_with_CSDUID_21[\"DAUID\"].astype('str')\n",
    "census_ontario_data_21[\"GEO UID\"] = census_ontario_data_21[\"GEO UID\"].astype('str')\n",
    "GGH_Census_21 = pandas.merge(GGH_DA_with_CSDUID_21, census_ontario_data_21,  left_on= \"DAUID\", right_on= \"GEO UID\", sort=False)\n",
    "\n",
    "#lose some unnecessary fields\n",
    "GGH_Census_06 = GGH_Census_06.drop('Dauid', axis =1)\n",
    "GGH_Census_21 = GGH_Census_21.drop(['GEO UID', 'Land area in square kilometres'], axis = 1)\n",
    "\n",
    "fields_06 = GGH_Census_06.columns [4:].tolist()\n",
    "fields_21 = GGH_Census_21.columns [4:].tolist()\n",
    "\n",
    "#add alphabets into the field names to keep the columns in place, merging and pivoting information would rearrange the fields.\n",
    "#also differentiate 2006 and 2021 fields. \n",
    "i = 0\n",
    "while i < len(fields_06):\n",
    "    field_06 = fields_06[i].replace(\"building that has \", \"\").replace(\",\",\"\").replace(\"-\", \" \").replace(\" in a\",\"\")\n",
    "    field_21 = fields_21[i].replace(\"building that has \", \"\").replace(\",\",\"\").replace(\"-\", \" \").replace(\" in a\",\"\")\n",
    "\n",
    "    GGH_Census_06.rename(columns={f'{fields_06[i]}': f'2006-{alc[i]}-{field_06}'}, inplace=True)\n",
    "    GGH_Census_21.rename(columns={f'{fields_21[i]}': f'2021-{alc[i]}-{field_21}'}, inplace=True)\n",
    "    i+=1\n",
    "\n",
    "#GGH Census Data Exported to CSV\n",
    "GGH_Census_06.to_csv(\"../census-summary-data-2006-2021/part-c-results/GGH-Census-da-06.csv\")\n",
    "GGH_Census_21.to_csv(\"../census-summary-data-2006-2021/part-c-results/GGH-Census-da-21.csv\")\n"
   ]
  },
  {
   "cell_type": "code",
   "execution_count": 51,
   "metadata": {},
   "outputs": [
    {
     "name": "stdout",
     "output_type": "stream",
     "text": [
      "Chg-a-Population\n",
      "Chg-b-Total Private dwellings\n",
      "Chg-c-Total dwellings structures\n",
      "Chg-d-Single detached house\n",
      "Chg-e-Semi detached house\n",
      "Chg-f-Row house\n",
      "Chg-g-Apartment duplex\n",
      "Chg-h-Apartment five or more storeys\n",
      "Chg-i-Apartment fewer than five storeys\n",
      "Chg-j-Other single attached house\n",
      "Chg-k-Movable dwelling\n",
      "Chg-l-Total households\n",
      "next section\n",
      "{'2006-a-Population': '2006 Population'}\n",
      "{'2006-b-Total Private dwellings': '2006 Total Private dwellings'}\n",
      "{'2006-c-Total dwellings structures': '2006 Total dwellings structures'}\n",
      "{'2006-d-Single detached house': '2006 Single detached house'}\n",
      "{'2006-e-Semi detached house': '2006 Semi detached house'}\n",
      "{'2006-f-Row house': '2006 Row house'}\n",
      "{'2006-g-Apartment duplex': '2006 Apartment duplex'}\n",
      "{'2006-h-Apartment five or more storeys': '2006 Apartment five or more storeys'}\n",
      "{'2006-i-Apartment fewer than five storeys': '2006 Apartment fewer than five storeys'}\n",
      "{'2006-j-Other single attached house': '2006 Other single attached house'}\n",
      "{'2006-k-Movable dwelling': '2006 Movable dwelling'}\n",
      "{'2006-l-Total households': '2006 Total households'}\n",
      "{'2021-a-Population': '2021 Population'}\n",
      "{'2021-b-Total dwellings': '2021 Total dwellings'}\n",
      "{'2021-c-Total dwelling type': '2021 Total dwelling type'}\n",
      "{'2021-d-Single detached house': '2021 Single detached house'}\n",
      "{'2021-e-Semi detached house': '2021 Semi detached house'}\n",
      "{'2021-f-Row house': '2021 Row house'}\n",
      "{'2021-g-Apartment or flat duplex': '2021 Apartment or flat duplex'}\n",
      "{'2021-h-Apartment five or more storeys': '2021 Apartment five or more storeys'}\n",
      "{'2021-i-Apartment fewer than five storeys': '2021 Apartment fewer than five storeys'}\n",
      "{'2021-j-Other single attached house': '2021 Other single attached house'}\n",
      "{'2021-k-Movable dwelling': '2021 Movable dwelling'}\n",
      "{'2021-l-Total households': '2021 Total households'}\n",
      "{'Chg-a-Population': 'Chg Population'}\n",
      "{'Chg-b-Total Private dwellings': 'Chg Total Private dwellings'}\n",
      "{'Chg-c-Total dwellings structures': 'Chg Total dwellings structures'}\n",
      "{'Chg-d-Single detached house': 'Chg Single detached house'}\n",
      "{'Chg-e-Semi detached house': 'Chg Semi detached house'}\n",
      "{'Chg-f-Row house': 'Chg Row house'}\n",
      "{'Chg-g-Apartment duplex': 'Chg Apartment duplex'}\n",
      "{'Chg-h-Apartment five or more storeys': 'Chg Apartment five or more storeys'}\n",
      "{'Chg-i-Apartment fewer than five storeys': 'Chg Apartment fewer than five storeys'}\n",
      "{'Chg-j-Other single attached house': 'Chg Other single attached house'}\n",
      "{'Chg-k-Movable dwelling': 'Chg Movable dwelling'}\n",
      "{'Chg-l-Total households': 'Chg Total households'}\n"
     ]
    }
   ],
   "source": [
    "#PIVOTTTTT!!! PIVOTTT!!!\n",
    "#pivot table to summarize information to the CSD level. \n",
    "GGH06_fields = GGH_Census_06.columns [4:].tolist() #the fields we want to summarize\n",
    "GGH21_fields = GGH_Census_21.columns [4:].tolist() #the fields we want to summarize\n",
    "\n",
    "pivot_table_06 = pandas.pivot_table(data = GGH_Census_06, values = GGH06_fields, index = ['Municipality'], aggfunc = numpy.sum)\n",
    "pivot_table_21 = pandas.pivot_table(data = GGH_Census_21, values = GGH21_fields, index = ['Municipality'], aggfunc = numpy.sum)\n",
    "pivot_table_06 = pivot_table_06.reset_index() #turn it back into a dataframe\n",
    "pivot_table_21 = pivot_table_21.reset_index()\n",
    "\n",
    "#join 2006 and 2021 table together. \n",
    "pivot_table = pandas.merge(pivot_table_06, pivot_table_21 , on = \"Municipality\", sort=False)\n",
    "#pivot_table = pivot_table.drop(pivot_table.columns.tolist()[13:15], axis =1)\n",
    "pivot_field = pivot_table.columns.tolist()[1:]\n",
    "i = 0\n",
    "#calculate the change between 2006 and 2021\n",
    "while i <= (len(pivot_field)-1)/2:\n",
    "    #feed 2006's census field name for the \"change\" section\n",
    "    changeField = pivot_field[i].replace(\"2006\", \"Chg\") \n",
    "    \n",
    "    #create the change field by subtracting 2006 information from 2021 information. \n",
    "    pivot_table[f'{changeField}'] = pivot_table [pivot_field[i+12]] - pivot_table [pivot_field[i]] \n",
    "    i+=1\n",
    "\n",
    "#rename the column, remove the alphabets added to keep the columns in place. \n",
    "i=1\n",
    "column = pivot_table.columns.tolist()\n",
    "while i < len(column):\n",
    "    columnList = column[i].split(\"-\")\n",
    "    pivot_table = pivot_table.rename(columns={f\"{column[i]}\": f\"{columnList[0]} {columnList[2]}\"})\n",
    "    \n",
    "    i+=1\n",
    "\n",
    "pivot_table.to_csv(\"../census-summary-data-2006-2021/part-c-results/GGH-census-region-summary-2006-2021.csv\")\n"
   ]
  },
  {
   "cell_type": "markdown",
   "metadata": {},
   "source": []
  },
  {
   "cell_type": "code",
   "execution_count": null,
   "metadata": {},
   "outputs": [],
   "source": [
    "ggh_regions = geopandas.read_file(\"../ggh-growth-plan-regions.geojson\")\n",
    "ggh1 = pandas.merge(ggh_regions, pivot_table, right_on = \"Municipality\", left_on = \"Name\", sort=False).drop(['Name'], axis = 1)\n",
    "ggh1.explore(column = 'Chg Apartment five or more storeys', legend = True, cmap = \"Purples\", scheme=\"quantiles\")"
   ]
  }
 ],
 "metadata": {
  "kernelspec": {
   "display_name": "Python 3",
   "language": "python",
   "name": "python3"
  },
  "language_info": {
   "codemirror_mode": {
    "name": "ipython",
    "version": 3
   },
   "file_extension": ".py",
   "mimetype": "text/x-python",
   "name": "python",
   "nbconvert_exporter": "python",
   "pygments_lexer": "ipython3",
   "version": "3.11.0"
  },
  "orig_nbformat": 4
 },
 "nbformat": 4,
 "nbformat_minor": 2
}
