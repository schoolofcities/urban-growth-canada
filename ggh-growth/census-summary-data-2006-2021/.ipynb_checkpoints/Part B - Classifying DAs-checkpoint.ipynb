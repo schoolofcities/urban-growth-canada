{
 "cells": [
  {
   "cell_type": "code",
   "execution_count": 3,
   "metadata": {},
   "outputs": [],
   "source": [
    "import pandas, geopandas\n",
    "from shapely.geometry import Polygon, LineString, \n",
    "ugc = geopandas.read_file(\"../../ggh-growth/ggh-urban-growth-centres.geojson\")\n",
    "transit_buff = geopandas.read_file(\"../../ggh-growth/ggh-urban-growth-centres.geojson\")\n",
    "transit_buff = geopandas.read_file(\"../../ggh-growth/ggh-1km-transit-buffers.geojson\")\n",
    "\n",
    "ggh_06 = geopandas.read_file(\"../../ggh-growth/census-file-handling/Data/GGH_DA_with_CSDUID_06.geojson\")\n",
    "ggh_21 = geopandas.read_file(\"../../ggh-growth/census-file-handling/Data/GGH_DA_with_CSDUID_21.geojson\")\n"
   ]
  },
  {
   "cell_type": "code",
   "execution_count": 7,
   "metadata": {},
   "outputs": [
    {
     "ename": "ValueError",
     "evalue": "Lengths of inputs do not match. Left: 12004, Right: 168",
     "output_type": "error",
     "traceback": [
      "\u001b[1;31m---------------------------------------------------------------------------\u001b[0m",
      "\u001b[1;31mValueError\u001b[0m                                Traceback (most recent call last)",
      "Cell \u001b[1;32mIn[7], line 1\u001b[0m\n\u001b[1;32m----> 1\u001b[0m ggh06_transit \u001b[39m=\u001b[39m ggh_06\u001b[39m.\u001b[39;49mintersection(transit_buff, align \u001b[39m=\u001b[39;49m \u001b[39mFalse\u001b[39;49;00m)\n",
      "File \u001b[1;32mc:\\Users\\Michael Liu\\AppData\\Local\\Programs\\Python\\Python311\\Lib\\site-packages\\geopandas\\base.py:2675\u001b[0m, in \u001b[0;36mGeoPandasBase.intersection\u001b[1;34m(self, other, align)\u001b[0m\n\u001b[0;32m   2564\u001b[0m \u001b[39mdef\u001b[39;00m \u001b[39mintersection\u001b[39m(\u001b[39mself\u001b[39m, other, align\u001b[39m=\u001b[39m\u001b[39mTrue\u001b[39;00m):\n\u001b[0;32m   2565\u001b[0m \u001b[39m    \u001b[39m\u001b[39m\"\"\"Returns a ``GeoSeries`` of the intersection of points in each\u001b[39;00m\n\u001b[0;32m   2566\u001b[0m \u001b[39m    aligned geometry with `other`.\u001b[39;00m\n\u001b[0;32m   2567\u001b[0m \n\u001b[1;32m   (...)\u001b[0m\n\u001b[0;32m   2673\u001b[0m \u001b[39m    GeoSeries.union\u001b[39;00m\n\u001b[0;32m   2674\u001b[0m \u001b[39m    \"\"\"\u001b[39;00m\n\u001b[1;32m-> 2675\u001b[0m     \u001b[39mreturn\u001b[39;00m _binary_geo(\u001b[39m\"\u001b[39;49m\u001b[39mintersection\u001b[39;49m\u001b[39m\"\u001b[39;49m, \u001b[39mself\u001b[39;49m, other, align)\n",
      "File \u001b[1;32mc:\\Users\\Michael Liu\\AppData\\Local\\Programs\\Python\\Python311\\Lib\\site-packages\\geopandas\\base.py:52\u001b[0m, in \u001b[0;36m_binary_geo\u001b[1;34m(op, this, other, align)\u001b[0m\n\u001b[0;32m     49\u001b[0m \u001b[39m\u001b[39m\u001b[39m\"\"\"Binary operation on GeoSeries objects that returns a GeoSeries\"\"\"\u001b[39;00m\n\u001b[0;32m     50\u001b[0m \u001b[39mfrom\u001b[39;00m \u001b[39m.\u001b[39;00m\u001b[39mgeoseries\u001b[39;00m \u001b[39mimport\u001b[39;00m GeoSeries\n\u001b[1;32m---> 52\u001b[0m geoms, index \u001b[39m=\u001b[39m _delegate_binary_method(op, this, other, align)\n\u001b[0;32m     53\u001b[0m \u001b[39mreturn\u001b[39;00m GeoSeries(geoms, index\u001b[39m=\u001b[39mindex, crs\u001b[39m=\u001b[39mthis\u001b[39m.\u001b[39mcrs)\n",
      "File \u001b[1;32mc:\\Users\\Michael Liu\\AppData\\Local\\Programs\\Python\\Python311\\Lib\\site-packages\\geopandas\\base.py:43\u001b[0m, in \u001b[0;36m_delegate_binary_method\u001b[1;34m(op, this, other, align, *args, **kwargs)\u001b[0m\n\u001b[0;32m     40\u001b[0m \u001b[39melse\u001b[39;00m:\n\u001b[0;32m     41\u001b[0m     \u001b[39mraise\u001b[39;00m \u001b[39mTypeError\u001b[39;00m(\u001b[39mtype\u001b[39m(this), \u001b[39mtype\u001b[39m(other))\n\u001b[1;32m---> 43\u001b[0m data \u001b[39m=\u001b[39m \u001b[39mgetattr\u001b[39;49m(a_this, op)(other, \u001b[39m*\u001b[39;49margs, \u001b[39m*\u001b[39;49m\u001b[39m*\u001b[39;49mkwargs)\n\u001b[0;32m     44\u001b[0m \u001b[39mreturn\u001b[39;00m data, this\u001b[39m.\u001b[39mindex\n",
      "File \u001b[1;32mc:\\Users\\Michael Liu\\AppData\\Local\\Programs\\Python\\Python311\\Lib\\site-packages\\geopandas\\array.py:621\u001b[0m, in \u001b[0;36mGeometryArray.intersection\u001b[1;34m(self, other)\u001b[0m\n\u001b[0;32m    619\u001b[0m \u001b[39mdef\u001b[39;00m \u001b[39mintersection\u001b[39m(\u001b[39mself\u001b[39m, other):\n\u001b[0;32m    620\u001b[0m     \u001b[39mreturn\u001b[39;00m GeometryArray(\n\u001b[1;32m--> 621\u001b[0m         \u001b[39mself\u001b[39;49m\u001b[39m.\u001b[39;49m_binary_method(\u001b[39m\"\u001b[39;49m\u001b[39mintersection\u001b[39;49m\u001b[39m\"\u001b[39;49m, \u001b[39mself\u001b[39;49m, other), crs\u001b[39m=\u001b[39m\u001b[39mself\u001b[39m\u001b[39m.\u001b[39mcrs\n\u001b[0;32m    622\u001b[0m     )\n",
      "File \u001b[1;32mc:\\Users\\Michael Liu\\AppData\\Local\\Programs\\Python\\Python311\\Lib\\site-packages\\geopandas\\array.py:561\u001b[0m, in \u001b[0;36mGeometryArray._binary_method\u001b[1;34m(op, left, right, **kwargs)\u001b[0m\n\u001b[0;32m    557\u001b[0m \u001b[39mif\u001b[39;00m \u001b[39mlen\u001b[39m(left) \u001b[39m!=\u001b[39m \u001b[39mlen\u001b[39m(right):\n\u001b[0;32m    558\u001b[0m     msg \u001b[39m=\u001b[39m \u001b[39m\"\u001b[39m\u001b[39mLengths of inputs do not match. Left: \u001b[39m\u001b[39m{0}\u001b[39;00m\u001b[39m, Right: \u001b[39m\u001b[39m{1}\u001b[39;00m\u001b[39m\"\u001b[39m\u001b[39m.\u001b[39mformat(\n\u001b[0;32m    559\u001b[0m         \u001b[39mlen\u001b[39m(left), \u001b[39mlen\u001b[39m(right)\n\u001b[0;32m    560\u001b[0m     )\n\u001b[1;32m--> 561\u001b[0m     \u001b[39mraise\u001b[39;00m \u001b[39mValueError\u001b[39;00m(msg)\n\u001b[0;32m    562\u001b[0m \u001b[39mif\u001b[39;00m \u001b[39mnot\u001b[39;00m _check_crs(left, right):\n\u001b[0;32m    563\u001b[0m     _crs_mismatch_warn(left, right, stacklevel\u001b[39m=\u001b[39m\u001b[39m7\u001b[39m)\n",
      "\u001b[1;31mValueError\u001b[0m: Lengths of inputs do not match. Left: 12004, Right: 168"
     ]
    }
   ],
   "source": [
    "ggh06_transit = ggh_06.intersection(transit_buff, align = False)"
   ]
  }
 ],
 "metadata": {
  "kernelspec": {
   "display_name": "Python 3",
   "language": "python",
   "name": "python3"
  },
  "language_info": {
   "codemirror_mode": {
    "name": "ipython",
    "version": 3
   },
   "file_extension": ".py",
   "mimetype": "text/x-python",
   "name": "python",
   "nbconvert_exporter": "python",
   "pygments_lexer": "ipython3",
   "version": "3.11.0"
  },
  "orig_nbformat": 4
 },
 "nbformat": 4,
 "nbformat_minor": 2
}
