{
 "cells": [
  {
   "cell_type": "code",
   "execution_count": 1,
   "metadata": {},
   "outputs": [
    {
     "ename": "KeyboardInterrupt",
     "evalue": "",
     "output_type": "error",
     "traceback": [
      "\u001b[1;31m---------------------------------------------------------------------------\u001b[0m",
      "\u001b[1;31mKeyboardInterrupt\u001b[0m                         Traceback (most recent call last)",
      "Cell \u001b[1;32mIn[1], line 9\u001b[0m\n\u001b[0;32m      6\u001b[0m csd_2021 \u001b[39m=\u001b[39m \u001b[39m\"\u001b[39m\u001b[39m../Data/lcsd000b21a_e/lcsd000b21a_e.shp\u001b[39m\u001b[39m\"\u001b[39m\n\u001b[0;32m      8\u001b[0m canada_da_21 \u001b[39m=\u001b[39m geopandas\u001b[39m.\u001b[39mread_file(da_2021)\n\u001b[1;32m----> 9\u001b[0m canada_da_06 \u001b[39m=\u001b[39m geopandas\u001b[39m.\u001b[39;49mread_file(da_2006)\n\u001b[0;32m     10\u001b[0m canada_csd_21 \u001b[39m=\u001b[39m geopandas\u001b[39m.\u001b[39mread_file(csd_2021)\n\u001b[0;32m     12\u001b[0m ontario_da_21 \u001b[39m=\u001b[39m canada_da_21[canada_da_21[\u001b[39m'\u001b[39m\u001b[39mPRUID\u001b[39m\u001b[39m'\u001b[39m] \u001b[39m==\u001b[39m \u001b[39m'\u001b[39m\u001b[39m35\u001b[39m\u001b[39m'\u001b[39m]\n",
      "File \u001b[1;32mc:\\Users\\Michael Liu\\AppData\\Local\\Programs\\Python\\Python311\\Lib\\site-packages\\geopandas\\io\\file.py:281\u001b[0m, in \u001b[0;36m_read_file\u001b[1;34m(filename, bbox, mask, rows, engine, **kwargs)\u001b[0m\n\u001b[0;32m    278\u001b[0m     \u001b[39melse\u001b[39;00m:\n\u001b[0;32m    279\u001b[0m         path_or_bytes \u001b[39m=\u001b[39m filename\n\u001b[1;32m--> 281\u001b[0m     \u001b[39mreturn\u001b[39;00m _read_file_fiona(\n\u001b[0;32m    282\u001b[0m         path_or_bytes, from_bytes, bbox\u001b[39m=\u001b[39;49mbbox, mask\u001b[39m=\u001b[39;49mmask, rows\u001b[39m=\u001b[39;49mrows, \u001b[39m*\u001b[39;49m\u001b[39m*\u001b[39;49mkwargs\n\u001b[0;32m    283\u001b[0m     )\n\u001b[0;32m    285\u001b[0m \u001b[39melse\u001b[39;00m:\n\u001b[0;32m    286\u001b[0m     \u001b[39mraise\u001b[39;00m \u001b[39mValueError\u001b[39;00m(\u001b[39mf\u001b[39m\u001b[39m\"\u001b[39m\u001b[39munknown engine \u001b[39m\u001b[39m'\u001b[39m\u001b[39m{\u001b[39;00mengine\u001b[39m}\u001b[39;00m\u001b[39m'\u001b[39m\u001b[39m\"\u001b[39m)\n",
      "File \u001b[1;32mc:\\Users\\Michael Liu\\AppData\\Local\\Programs\\Python\\Python311\\Lib\\site-packages\\geopandas\\io\\file.py:379\u001b[0m, in \u001b[0;36m_read_file_fiona\u001b[1;34m(path_or_bytes, from_bytes, bbox, mask, rows, where, **kwargs)\u001b[0m\n\u001b[0;32m    375\u001b[0m     df \u001b[39m=\u001b[39m pd\u001b[39m.\u001b[39mDataFrame(\n\u001b[0;32m    376\u001b[0m         [record[\u001b[39m\"\u001b[39m\u001b[39mproperties\u001b[39m\u001b[39m\"\u001b[39m] \u001b[39mfor\u001b[39;00m record \u001b[39min\u001b[39;00m f_filt], columns\u001b[39m=\u001b[39mcolumns\n\u001b[0;32m    377\u001b[0m     )\n\u001b[0;32m    378\u001b[0m \u001b[39melse\u001b[39;00m:\n\u001b[1;32m--> 379\u001b[0m     df \u001b[39m=\u001b[39m GeoDataFrame\u001b[39m.\u001b[39;49mfrom_features(\n\u001b[0;32m    380\u001b[0m         f_filt, crs\u001b[39m=\u001b[39;49mcrs, columns\u001b[39m=\u001b[39;49mcolumns \u001b[39m+\u001b[39;49m [\u001b[39m\"\u001b[39;49m\u001b[39mgeometry\u001b[39;49m\u001b[39m\"\u001b[39;49m]\n\u001b[0;32m    381\u001b[0m     )\n\u001b[0;32m    382\u001b[0m \u001b[39mfor\u001b[39;00m k \u001b[39min\u001b[39;00m datetime_fields:\n\u001b[0;32m    383\u001b[0m     as_dt \u001b[39m=\u001b[39m pd\u001b[39m.\u001b[39mto_datetime(df[k], errors\u001b[39m=\u001b[39m\u001b[39m\"\u001b[39m\u001b[39mignore\u001b[39m\u001b[39m\"\u001b[39m)\n",
      "File \u001b[1;32mc:\\Users\\Michael Liu\\AppData\\Local\\Programs\\Python\\Python311\\Lib\\site-packages\\geopandas\\geodataframe.py:640\u001b[0m, in \u001b[0;36mGeoDataFrame.from_features\u001b[1;34m(cls, features, crs, columns)\u001b[0m\n\u001b[0;32m    637\u001b[0m \u001b[39mif\u001b[39;00m \u001b[39mhasattr\u001b[39m(feature, \u001b[39m\"\u001b[39m\u001b[39m__geo_interface__\u001b[39m\u001b[39m\"\u001b[39m):\n\u001b[0;32m    638\u001b[0m     feature \u001b[39m=\u001b[39m feature\u001b[39m.\u001b[39m__geo_interface__\n\u001b[0;32m    639\u001b[0m row \u001b[39m=\u001b[39m {\n\u001b[1;32m--> 640\u001b[0m     \u001b[39m\"\u001b[39m\u001b[39mgeometry\u001b[39m\u001b[39m\"\u001b[39m: shape(feature[\u001b[39m\"\u001b[39;49m\u001b[39mgeometry\u001b[39;49m\u001b[39m\"\u001b[39;49m]) \u001b[39mif\u001b[39;00m feature[\u001b[39m\"\u001b[39m\u001b[39mgeometry\u001b[39m\u001b[39m\"\u001b[39m] \u001b[39melse\u001b[39;00m \u001b[39mNone\u001b[39;00m\n\u001b[0;32m    641\u001b[0m }\n\u001b[0;32m    642\u001b[0m \u001b[39m# load properties\u001b[39;00m\n\u001b[0;32m    643\u001b[0m properties \u001b[39m=\u001b[39m feature[\u001b[39m\"\u001b[39m\u001b[39mproperties\u001b[39m\u001b[39m\"\u001b[39m]\n",
      "File \u001b[1;32mc:\\Users\\Michael Liu\\AppData\\Local\\Programs\\Python\\Python311\\Lib\\site-packages\\shapely\\geometry\\geo.py:102\u001b[0m, in \u001b[0;36mshape\u001b[1;34m(context)\u001b[0m\n\u001b[0;32m    100\u001b[0m     \u001b[39mreturn\u001b[39;00m LinearRing(ob[\u001b[39m\"\u001b[39m\u001b[39mcoordinates\u001b[39m\u001b[39m\"\u001b[39m])\n\u001b[0;32m    101\u001b[0m \u001b[39melif\u001b[39;00m geom_type \u001b[39m==\u001b[39m \u001b[39m\"\u001b[39m\u001b[39mpolygon\u001b[39m\u001b[39m\"\u001b[39m:\n\u001b[1;32m--> 102\u001b[0m     \u001b[39mreturn\u001b[39;00m Polygon(ob[\u001b[39m\"\u001b[39;49m\u001b[39mcoordinates\u001b[39;49m\u001b[39m\"\u001b[39;49m][\u001b[39m0\u001b[39;49m], ob[\u001b[39m\"\u001b[39;49m\u001b[39mcoordinates\u001b[39;49m\u001b[39m\"\u001b[39;49m][\u001b[39m1\u001b[39;49m:])\n\u001b[0;32m    103\u001b[0m \u001b[39melif\u001b[39;00m geom_type \u001b[39m==\u001b[39m \u001b[39m\"\u001b[39m\u001b[39mmultipoint\u001b[39m\u001b[39m\"\u001b[39m:\n\u001b[0;32m    104\u001b[0m     \u001b[39mreturn\u001b[39;00m MultiPoint(ob[\u001b[39m\"\u001b[39m\u001b[39mcoordinates\u001b[39m\u001b[39m\"\u001b[39m])\n",
      "File \u001b[1;32mc:\\Users\\Michael Liu\\AppData\\Local\\Programs\\Python\\Python311\\Lib\\site-packages\\shapely\\geometry\\polygon.py:230\u001b[0m, in \u001b[0;36mPolygon.__new__\u001b[1;34m(self, shell, holes)\u001b[0m\n\u001b[0;32m    228\u001b[0m     \u001b[39mreturn\u001b[39;00m shell\n\u001b[0;32m    229\u001b[0m \u001b[39melse\u001b[39;00m:\n\u001b[1;32m--> 230\u001b[0m     shell \u001b[39m=\u001b[39m LinearRing(shell)\n\u001b[0;32m    232\u001b[0m \u001b[39mif\u001b[39;00m holes \u001b[39mis\u001b[39;00m \u001b[39mnot\u001b[39;00m \u001b[39mNone\u001b[39;00m:\n\u001b[0;32m    233\u001b[0m     \u001b[39mif\u001b[39;00m \u001b[39mlen\u001b[39m(holes) \u001b[39m==\u001b[39m \u001b[39m0\u001b[39m:\n\u001b[0;32m    234\u001b[0m         \u001b[39m# shapely constructor cannot handle holes=[]\u001b[39;00m\n",
      "File \u001b[1;32mc:\\Users\\Michael Liu\\AppData\\Local\\Programs\\Python\\Python311\\Lib\\site-packages\\shapely\\geometry\\polygon.py:104\u001b[0m, in \u001b[0;36mLinearRing.__new__\u001b[1;34m(self, coordinates)\u001b[0m\n\u001b[0;32m     99\u001b[0m \u001b[39mif\u001b[39;00m \u001b[39mlen\u001b[39m(coordinates) \u001b[39m==\u001b[39m \u001b[39m0\u001b[39m:\n\u001b[0;32m    100\u001b[0m     \u001b[39m# empty geometry\u001b[39;00m\n\u001b[0;32m    101\u001b[0m     \u001b[39m# TODO better constructor + should shapely.linearrings handle this?\u001b[39;00m\n\u001b[0;32m    102\u001b[0m     \u001b[39mreturn\u001b[39;00m shapely\u001b[39m.\u001b[39mfrom_wkt(\u001b[39m\"\u001b[39m\u001b[39mLINEARRING EMPTY\u001b[39m\u001b[39m\"\u001b[39m)\n\u001b[1;32m--> 104\u001b[0m geom \u001b[39m=\u001b[39m shapely\u001b[39m.\u001b[39;49mlinearrings(coordinates)\n\u001b[0;32m    105\u001b[0m \u001b[39mif\u001b[39;00m \u001b[39mnot\u001b[39;00m \u001b[39misinstance\u001b[39m(geom, LinearRing):\n\u001b[0;32m    106\u001b[0m     \u001b[39mraise\u001b[39;00m \u001b[39mValueError\u001b[39;00m(\u001b[39m\"\u001b[39m\u001b[39mInvalid values passed to LinearRing constructor\u001b[39m\u001b[39m\"\u001b[39m)\n",
      "File \u001b[1;32mc:\\Users\\Michael Liu\\AppData\\Local\\Programs\\Python\\Python311\\Lib\\site-packages\\shapely\\decorators.py:77\u001b[0m, in \u001b[0;36mmultithreading_enabled.<locals>.wrapped\u001b[1;34m(*args, **kwargs)\u001b[0m\n\u001b[0;32m     75\u001b[0m     \u001b[39mfor\u001b[39;00m arr \u001b[39min\u001b[39;00m array_args:\n\u001b[0;32m     76\u001b[0m         arr\u001b[39m.\u001b[39mflags\u001b[39m.\u001b[39mwriteable \u001b[39m=\u001b[39m \u001b[39mFalse\u001b[39;00m\n\u001b[1;32m---> 77\u001b[0m     \u001b[39mreturn\u001b[39;00m func(\u001b[39m*\u001b[39;49margs, \u001b[39m*\u001b[39;49m\u001b[39m*\u001b[39;49mkwargs)\n\u001b[0;32m     78\u001b[0m \u001b[39mfinally\u001b[39;00m:\n\u001b[0;32m     79\u001b[0m     \u001b[39mfor\u001b[39;00m arr, old_flag \u001b[39min\u001b[39;00m \u001b[39mzip\u001b[39m(array_args, old_flags):\n",
      "File \u001b[1;32mc:\\Users\\Michael Liu\\AppData\\Local\\Programs\\Python\\Python311\\Lib\\site-packages\\shapely\\creation.py:173\u001b[0m, in \u001b[0;36mlinearrings\u001b[1;34m(coords, y, z, indices, out, **kwargs)\u001b[0m\n\u001b[0;32m    171\u001b[0m coords \u001b[39m=\u001b[39m _xyz_to_coords(coords, y, z)\n\u001b[0;32m    172\u001b[0m \u001b[39mif\u001b[39;00m indices \u001b[39mis\u001b[39;00m \u001b[39mNone\u001b[39;00m:\n\u001b[1;32m--> 173\u001b[0m     \u001b[39mreturn\u001b[39;00m lib\u001b[39m.\u001b[39;49mlinearrings(coords, out\u001b[39m=\u001b[39;49mout, \u001b[39m*\u001b[39;49m\u001b[39m*\u001b[39;49mkwargs)\n\u001b[0;32m    174\u001b[0m \u001b[39melse\u001b[39;00m:\n\u001b[0;32m    175\u001b[0m     \u001b[39mreturn\u001b[39;00m simple_geometries_1d(coords, indices, GeometryType\u001b[39m.\u001b[39mLINEARRING, out\u001b[39m=\u001b[39mout)\n",
      "\u001b[1;31mKeyboardInterrupt\u001b[0m: "
     ]
    }
   ],
   "source": [
    "import geopandas, pandas\n",
    "\n",
    "\n",
    "da_2021 = \"../Data/lda_000b21a_e/lda_000b21a_e.shp\"\n",
    "da_2006 = \"../Data/gda_000b06a_e/gda_000b06a_e.shp\"\n",
    "csd_2021 = \"../Data/lcsd000b21a_e/lcsd000b21a_e.shp\"\n",
    "\n",
    "canada_da_21 = geopandas.read_file(da_2021)\n",
    "canada_da_06 = geopandas.read_file(da_2006)\n",
    "canada_csd_21 = geopandas.read_file(csd_2021)\n",
    "\n",
    "ontario_da_21 = canada_da_21[canada_da_21['PRUID'] == '35']\n",
    "ontario_da_06 = canada_da_06[canada_da_06['PRUID'] == '35']\n",
    "ontario_csd_21 = canada_csd_21[canada_csd_21['PRUID'] == '35']\n",
    "\n",
    "region_summary = \"../../../ggh-growth/regions-summary.csv\"\n",
    "region_summary = pandas.read_csv(region_summary)\n",
    "\n"
   ]
  },
  {
   "cell_type": "markdown",
   "metadata": {},
   "source": [
    "Bridging the Gap Between CSDUID and DAUID\n"
   ]
  },
  {
   "cell_type": "code",
   "execution_count": 3,
   "metadata": {},
   "outputs": [],
   "source": [
    "#import census reference table, which contains the DGUID for DA and CSD level. \n",
    "DA_to_CSD = \"../Data/2021_DA_CSDUID_Reference_Table.csv\"\n",
    "DA_to_CSD = pandas.read_csv(DA_to_CSD)\n",
    "#merge the reference table to the Ontario DA file for 2021\n",
    "DA_with_CSDDGUID = pandas.merge(ontario_da_21, DA_to_CSD, left_on = \"DGUID\", right_on = \"DADGUID_ADIDUGD\")\n",
    "#copy the 'DGUID', 'CSDUID' to a new dataframe called DA_with_CSD, then merge it to DA_with_CSDDGUID\n",
    "DA_with_CSD = ontario_csd_21[['DGUID', 'CSDUID']].copy()\n",
    "GGH_DA_with_CSDUID_21 = pandas.merge(DA_with_CSDDGUID, DA_with_CSD,  left_on= \"CSDDGUID_SDRIDUGD\", right_on= \"DGUID\")\n",
    "#remove redundant fields \n",
    "GGH_DA_with_CSDUID_21 = GGH_DA_with_CSDUID_21.drop([\"CSDDGUID_SDRIDUGD\", \"DADGUID_ADIDUGD\", \"DGUID_y\", \"DGUID_x\"], axis = 1)\n",
    "GGH_DA_with_CSDUID_06 = ontario_da_06.drop([\"CDUID\", \"ERUID\", \"CCSUID\", \"CTUID\", \"CMAUID\", \"PRUID\"], axis = 1)\n",
    "#canada_da_21.drop('CensusID2', axis =1)\n",
    "#turn the region summary into a list\n",
    "censusIDList = region_summary['CSDUID2'].tolist()\n",
    "municipalityList = region_summary['Municipality'].tolist()\n",
    "macroList = region_summary[\"Macro\"].tolist()\n",
    "#loop through the list to add a new field called CSDID2, CSDID2 will be a new key for joining with regions-summary.csv\n",
    "i = 0\n",
    "while i < len(censusIDList):\n",
    "    regionID = censusIDList[i]\n",
    "    macro = macroList[i]\n",
    "    municipality = municipalityList[i]\n",
    "    GGH_DA_with_CSDUID_21.loc[GGH_DA_with_CSDUID_21['CSDUID'].str.startswith(f'{regionID}'), \"Macro\"] = macro\n",
    "    GGH_DA_with_CSDUID_06.loc[GGH_DA_with_CSDUID_06['CSDUID'].str.startswith(f'{regionID}'), \"Macro\"] = macro\n",
    "    GGH_DA_with_CSDUID_21.loc[GGH_DA_with_CSDUID_21['CSDUID'].str.startswith(f'{regionID}'), \"Municipality\"] = municipality\n",
    "    GGH_DA_with_CSDUID_06.loc[GGH_DA_with_CSDUID_06['CSDUID'].str.startswith(f'{regionID}'), \"Municipality\"] = municipality\n",
    "    i+=1\n",
    "\n",
    "GGH_DA_with_CSDUID_21 = GGH_DA_with_CSDUID_21.dropna()\n",
    "GGH_DA_with_CSDUID_06 = GGH_DA_with_CSDUID_06.dropna()\n"
   ]
  },
  {
   "cell_type": "markdown",
   "metadata": {},
   "source": [
    "Joining Census Data With the Census Boundary Files"
   ]
  },
  {
   "cell_type": "code",
   "execution_count": 4,
   "metadata": {},
   "outputs": [],
   "source": [
    "#export to shapefile\n",
    "GGH_DA_with_CSDUID_21.to_file(\"../Export/GGH_DA_with_CSDUID_2021.geojson\")\n",
    "GGH_DA_with_CSDUID_06.to_file(\"../Export/GGH_DA_with_CSDUID_2006.geojson\")"
   ]
  },
  {
   "cell_type": "code",
   "execution_count": null,
   "metadata": {},
   "outputs": [],
   "source": [
    "\n",
    "census_ontario_data_06 = \"../Data/Census Data/Census2006.csv\"\n",
    "census_ontario_data_06 = pandas.read_csv(census_ontario_data_06, encoding='utf-8')\n",
    "census_ontario_data_21 = \"../Data/Census Data/Census2021.csv\"\n",
    "census_ontario_data_21 = pandas.read_csv(census_ontario_data_21, encoding='utf-8')"
   ]
  },
  {
   "cell_type": "code",
   "execution_count": null,
   "metadata": {},
   "outputs": [],
   "source": [
    "\n",
    "GGH_DA_with_CSDUID_06 = \"../Export/GGH_DA_with_CSDUID_2006.geojson\"\n",
    "GGH_DA_with_CSDUID_06 = geopandas.read_file(GGH_DA_with_CSDUID_06)\n",
    "GGH_DA_with_CSDUID_21 = \"../Export/GGH_DA_with_CSDUID_2021.geojson\"\n",
    "GGH_DA_with_CSDUID_21 = geopandas.read_file(GGH_DA_with_CSDUID_21)\n",
    "\n",
    "GGH_DA_with_CSDUID_06[\"DAUID\"] = GGH_DA_with_CSDUID_06[\"DAUID\"].astype('str')\n",
    "census_ontario_data_06[\"Dauid\"] = census_ontario_data_06[\"Dauid\"].astype('str')\n",
    "GGH_Census_06 = pandas.merge(GGH_DA_with_CSDUID_06, census_ontario_data_06,  left_on= \"DAUID\", right_on= \"Dauid\")\n",
    "\n",
    "GGH_DA_with_CSDUID_21[\"DAUID\"] = GGH_DA_with_CSDUID_21[\"DAUID\"].astype('str')\n",
    "census_ontario_data_21[\"GEO UID\"] = census_ontario_data_21[\"GEO UID\"].astype('str')\n",
    "GGH_Census_21 = pandas.merge(GGH_DA_with_CSDUID_21, census_ontario_data_21,  left_on= \"DAUID\", right_on= \"GEO UID\")\n",
    "GGH_Census_06 = GGH_Census_06.drop('Dauid', axis =1)\n",
    "GGH_Census_21 = GGH_Census_21.drop(['LANDAREA', 'PRUID', 'GEO UID', 'Land area in square kilometres'], axis = 1)\n",
    "\n",
    "GGH06_fields = GGH_Census_06.columns [5:]\n",
    "GGH21_fields = GGH_Census_21.columns [5:]\n",
    "GGH06_fields = GGH06_fields.tolist()\n",
    "GGH21_fields = GGH21_fields.tolist()\n",
    "\n",
    "GGH_Census_06.to_file(\"../Export/GGH_Census_06.geojson\")\n",
    "GGH_Census_21.to_file(\"../Export/GGH_Census_21.geojson\")"
   ]
  },
  {
   "cell_type": "code",
   "execution_count": null,
   "metadata": {},
   "outputs": [],
   "source": [
    "pivot_table_06 = pandas.pivot_table(data = GGH_Census_06, values = GGH06_fields, index = ['Municipality'], aggfunc = numpy.sum)\n",
    "pivot_table_21 = pandas.pivot_table(data = GGH_Census_21, values = GGH21_fields, index = ['Municipality'], aggfunc = numpy.sum)\n",
    "pivot_table_06 = pivot_table_06.reset_index()\n",
    "pivot_table_21 = pivot_table_21.reset_index()\n",
    "pivot_table = pivot_table_06['Municipality'].reset_index()\n",
    "\n",
    "fieldNames = []\n",
    "for f in GGH21_fields:\n",
    "    fieldNames.append(f'Change - {f}')\n",
    "\n",
    "i = 0\n",
    "while i < len(GGH06_fields):\n",
    "    pivot_table[fieldNames[i]] = pivot_table_21[GGH21_fields[i]] - pivot_table_06[GGH06_fields[i]]\n",
    "    i+=1\n",
    "\n",
    "pivot_table = pivot_table.drop(['index'], axis = 1)\n",
    "\n",
    "ggh_regions = geopandas.read_file(\"../../../ggh-growth/ggh-growth-plan-regions.geojson\")\n",
    "ggh = pandas.merge(ggh_regions, pivot_table, right_on = \"Municipality\", left_on = \"Name\")\n",
    "ggh.to_file(\"../Export/GGH_Census_Change.geojson\")\n",
    "\n"
   ]
  },
  {
   "cell_type": "code",
   "execution_count": null,
   "metadata": {},
   "outputs": [],
   "source": [
    "for field in GGH_Census_21.columns.tolist()[5:]:\n",
    "    maps = GGH_Census_21.plot(column = field, legend = True, cmap='Purples', edgecolor=\"grey\", linewidth = 0.01, scheme='quantiles', figsize = (10.0,8.0), aspect = \"auto\", legend_kwds={'bbox_to_anchor': (1.3, 1)})\n",
    "    maps.set_axis_off()\n",
    "    maps.set_title(field)\n",
    "\n",
    "    output_file_name = f\"../Export/Maps/2021_{field}.png\"\n",
    "    maps.get_figure().savefig(output_file_name, dpi = 600)"
   ]
  },
  {
   "cell_type": "code",
   "execution_count": null,
   "metadata": {},
   "outputs": [],
   "source": [
    "for field in GGH_Census_06.columns.tolist()[5:]:\n",
    "    maps = GGH_Census_06.plot(column = field, legend = True, cmap='Purples', edgecolor=\"grey\", linewidth = 0.01, scheme='quantiles', figsize = (10.0,8.0), aspect = \"auto\", legend_kwds={'bbox_to_anchor': (1.3, 1)})\n",
    "    maps.set_axis_off()\n",
    "    maps.set_title(field)\n",
    "\n",
    "    output_file_name = f\"../Export/Maps/2006_{field}.png\"\n",
    "    maps.get_figure().savefig(output_file_name, dpi = 600)"
   ]
  },
  {
   "cell_type": "code",
   "execution_count": null,
   "metadata": {},
   "outputs": [],
   "source": [
    "for field in ggh.columns.tolist()[3:]:\n",
    "    maps = ggh.plot(column = field, legend = True, cmap='Purples', edgecolor=\"grey\", linewidth = 0.4, scheme='quantiles', figsize = (10.0,8.0), aspect = \"auto\", legend_kwds={'bbox_to_anchor': (1.3, 1)})\n",
    "    maps.set_axis_off()\n",
    "    maps.set_title(field)\n",
    "\n",
    "    output_file_name = f\"../Export/Maps/Change_{field}.png\"\n",
    "    maps.get_figure().savefig(output_file_name, dpi = 600)\n"
   ]
  }
 ],
 "metadata": {
  "kernelspec": {
   "display_name": "Python 3",
   "language": "python",
   "name": "python3"
  },
  "language_info": {
   "codemirror_mode": {
    "name": "ipython",
    "version": 3
   },
   "file_extension": ".py",
   "mimetype": "text/x-python",
   "name": "python",
   "nbconvert_exporter": "python",
   "pygments_lexer": "ipython3",
   "version": "3.11.0"
  },
  "orig_nbformat": 4
 },
 "nbformat": 4,
 "nbformat_minor": 2
}
